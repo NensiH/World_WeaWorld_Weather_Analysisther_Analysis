{
 "cells": [
  {
   "cell_type": "code",
   "execution_count": 14,
   "id": "54d3ab74",
   "metadata": {},
   "outputs": [],
   "source": [
    "# testing access tocken\n",
    "# Import the random module.\n",
    "import random \n",
    "import pandas as pd\n",
    "# Import timeit.\n",
    "#import timeit"
   ]
  },
  {
   "cell_type": "code",
   "execution_count": 3,
   "id": "b060f325",
   "metadata": {},
   "outputs": [
    {
     "data": {
      "text/plain": [
       "0.07805190787397454"
      ]
     },
     "execution_count": 3,
     "metadata": {},
     "output_type": "execute_result"
    }
   ],
   "source": [
    "random.random()"
   ]
  },
  {
   "cell_type": "code",
   "execution_count": 4,
   "id": "4ae66a11",
   "metadata": {},
   "outputs": [
    {
     "data": {
      "text/plain": [
       "2"
      ]
     },
     "execution_count": 4,
     "metadata": {},
     "output_type": "execute_result"
    }
   ],
   "source": [
    "random.randint(-5,5)"
   ]
  },
  {
   "cell_type": "code",
   "execution_count": 5,
   "id": "356f9515",
   "metadata": {},
   "outputs": [
    {
     "data": {
      "text/plain": [
       "4"
      ]
     },
     "execution_count": 5,
     "metadata": {},
     "output_type": "execute_result"
    }
   ],
   "source": [
    "random.randrange(-5,5)"
   ]
  },
  {
   "cell_type": "code",
   "execution_count": 6,
   "id": "56d84ddb",
   "metadata": {},
   "outputs": [
    {
     "data": {
      "text/plain": [
       "-1.5073472737452134"
      ]
     },
     "execution_count": 6,
     "metadata": {},
     "output_type": "execute_result"
    }
   ],
   "source": [
    "random.uniform(-5,5)"
   ]
  },
  {
   "cell_type": "code",
   "execution_count": 7,
   "id": "d3d0d810",
   "metadata": {},
   "outputs": [
    {
     "data": {
      "text/plain": [
       "8.97355966849312"
      ]
     },
     "execution_count": 7,
     "metadata": {},
     "output_type": "execute_result"
    }
   ],
   "source": [
    "random_number = random.randint(-10,10)+ random.random()\n",
    "random_number"
   ]
  },
  {
   "cell_type": "code",
   "execution_count": 8,
   "id": "5dd8364a",
   "metadata": {},
   "outputs": [
    {
     "data": {
      "text/plain": [
       "[-45.05464797750826,\n",
       " -8.131226668440972,\n",
       " 34.79110887297961,\n",
       " -82.55568147694818,\n",
       " -89.76079564693863,\n",
       " -55.38863048222631,\n",
       " 20.89785391245662,\n",
       " -23.288464137860863,\n",
       " 82.7817901250078,\n",
       " 30.04095834636215]"
      ]
     },
     "execution_count": 8,
     "metadata": {},
     "output_type": "execute_result"
    }
   ],
   "source": [
    "x= 1\n",
    "lattitude = []\n",
    "while x<11:\n",
    "    random_lat = random.random() + random.randint(-90, 90)\n",
    "    lattitude.append(random_lat)\n",
    "    x += 1\n",
    "lattitude    "
   ]
  },
  {
   "cell_type": "code",
   "execution_count": 9,
   "id": "013cb876",
   "metadata": {},
   "outputs": [
    {
     "data": {
      "text/plain": [
       "[-153.42411514481236,\n",
       " -91.25684983893724,\n",
       " -39.016343901539216,\n",
       " -164.71123240291533,\n",
       " 58.15215171001453,\n",
       " -155.91156084572197,\n",
       " -165.1774228558291,\n",
       " 83.11604988393668,\n",
       " 1.1925791379101172,\n",
       " 134.7490555712912]"
      ]
     },
     "execution_count": 9,
     "metadata": {},
     "output_type": "execute_result"
    }
   ],
   "source": [
    "x= 1\n",
    "longtude = []\n",
    "while x<11:\n",
    "    random_long = random.random() + random.randint(-180, 180)\n",
    "    longtude.append(random_long)\n",
    "    x += 1\n",
    "longtude "
   ]
  },
  {
   "cell_type": "code",
   "execution_count": 11,
   "id": "6c4a6506",
   "metadata": {},
   "outputs": [
    {
     "data": {
      "text/plain": [
       "array([ 4.81022355e+01, -2.07996584e+01,  6.70909600e+01, -1.39612376e+00,\n",
       "        4.81832747e+01, -3.49440852e+01, -3.41064544e+01,  6.03583872e+01,\n",
       "        8.38782243e+01, -4.56143616e+01, -1.69814139e+01, -1.24450429e+00,\n",
       "       -4.41301145e+01,  8.62407346e+01,  5.65687829e+01,  3.09793965e+01,\n",
       "       -7.84684864e+01,  1.74105276e+01, -7.04795967e+01,  8.07158385e+01,\n",
       "       -2.11420983e+01, -3.88211828e+01,  8.76645358e+01, -7.21123220e+01,\n",
       "       -5.10815841e+01,  5.04286359e+01,  3.21549123e+01,  1.60593409e-02,\n",
       "       -2.86819124e+01,  1.13078539e+01, -1.83047017e+01,  4.94290982e+01,\n",
       "       -7.62427267e+01,  4.81521053e+01,  6.58145682e+01, -4.85098856e+01,\n",
       "       -6.13681836e+01, -8.90689102e+01, -5.59322451e+01,  2.77699505e+00,\n",
       "       -8.92859396e+01, -5.06527262e+01,  5.38474944e+01,  7.61748484e+01,\n",
       "        8.44680309e+01,  3.76578073e+01, -4.57403009e+01, -1.00638720e+01,\n",
       "        5.44114022e+01, -8.85313223e+01])"
      ]
     },
     "execution_count": 11,
     "metadata": {},
     "output_type": "execute_result"
    }
   ],
   "source": [
    "import numpy as np \n",
    "np.random.uniform(-90.000, 90.000, size=50)"
   ]
  },
  {
   "cell_type": "code",
   "execution_count": 17,
   "id": "4f56e9cf",
   "metadata": {},
   "outputs": [
    {
     "name": "stdout",
     "output_type": "stream",
     "text": [
      "12.1 µs ± 67.4 ns per loop (mean ± std. dev. of 7 runs, 100000 loops each)\n"
     ]
    }
   ],
   "source": [
    "%timeit np.random.uniform(-90.000, 90.000, size=1500)"
   ]
  },
  {
   "cell_type": "code",
   "execution_count": 18,
   "id": "9887ac9f",
   "metadata": {},
   "outputs": [
    {
     "data": {
      "text/plain": [
       "array([-35.6283407 ,  -9.03601543,  58.7884153 , ..., -50.27513723,\n",
       "        -0.33866443,  13.54075033])"
      ]
     },
     "execution_count": 18,
     "metadata": {},
     "output_type": "execute_result"
    }
   ],
   "source": [
    "np.random.uniform(-90.000, 90.000, size=1500)"
   ]
  },
  {
   "cell_type": "code",
   "execution_count": null,
   "id": "5da95a68",
   "metadata": {},
   "outputs": [],
   "source": []
  }
 ],
 "metadata": {
  "kernelspec": {
   "display_name": "PythonData",
   "language": "python",
   "name": "pythondata"
  },
  "language_info": {
   "codemirror_mode": {
    "name": "ipython",
    "version": 3
   },
   "file_extension": ".py",
   "mimetype": "text/x-python",
   "name": "python",
   "nbconvert_exporter": "python",
   "pygments_lexer": "ipython3",
   "version": "3.9.4"
  }
 },
 "nbformat": 4,
 "nbformat_minor": 5
}
