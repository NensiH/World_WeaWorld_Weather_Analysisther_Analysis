{
 "cells": [
  {
   "cell_type": "code",
   "execution_count": 26,
   "id": "54d3ab74",
   "metadata": {},
   "outputs": [],
   "source": [
    "# testing access tocken\n",
    "# Import the random module.\n",
    "import random \n",
    "import pandas as pd"
   ]
  },
  {
   "cell_type": "code",
   "execution_count": 24,
   "id": "b060f325",
   "metadata": {},
   "outputs": [
    {
     "data": {
      "text/plain": [
       "0.01686290595987494"
      ]
     },
     "execution_count": 24,
     "metadata": {},
     "output_type": "execute_result"
    }
   ],
   "source": [
    "random.random()"
   ]
  },
  {
   "cell_type": "code",
   "execution_count": 6,
   "id": "4ae66a11",
   "metadata": {},
   "outputs": [
    {
     "data": {
      "text/plain": [
       "-5"
      ]
     },
     "execution_count": 6,
     "metadata": {},
     "output_type": "execute_result"
    }
   ],
   "source": [
    "random.randint(-5,5)"
   ]
  },
  {
   "cell_type": "code",
   "execution_count": 51,
   "id": "356f9515",
   "metadata": {},
   "outputs": [
    {
     "data": {
      "text/plain": [
       "4"
      ]
     },
     "execution_count": 51,
     "metadata": {},
     "output_type": "execute_result"
    }
   ],
   "source": [
    "random.randrange(-5,5)"
   ]
  },
  {
   "cell_type": "code",
   "execution_count": 33,
   "id": "56d84ddb",
   "metadata": {},
   "outputs": [
    {
     "data": {
      "text/plain": [
       "-2.620939547090324"
      ]
     },
     "execution_count": 33,
     "metadata": {},
     "output_type": "execute_result"
    }
   ],
   "source": [
    "random.uniform(-5,5)"
   ]
  },
  {
   "cell_type": "code",
   "execution_count": 27,
   "id": "d3d0d810",
   "metadata": {},
   "outputs": [
    {
     "data": {
      "text/plain": [
       "9.985161949191243"
      ]
     },
     "execution_count": 27,
     "metadata": {},
     "output_type": "execute_result"
    }
   ],
   "source": [
    "random_number = random.randint(-10,10)+ random.random()\n",
    "random_number"
   ]
  },
  {
   "cell_type": "code",
   "execution_count": 29,
   "id": "5dd8364a",
   "metadata": {},
   "outputs": [
    {
     "data": {
      "text/plain": [
       "[73.20076946438505,\n",
       " -57.33926813643061,\n",
       " -19.13281885060117,\n",
       " -18.056130112448674,\n",
       " 13.549537468400445,\n",
       " -34.59272830084481,\n",
       " 56.91313147576119,\n",
       " 5.943857355281669,\n",
       " 79.67159068918217,\n",
       " -84.41255490682826]"
      ]
     },
     "execution_count": 29,
     "metadata": {},
     "output_type": "execute_result"
    }
   ],
   "source": [
    "x= 1\n",
    "lattitude = []\n",
    "while x<11:\n",
    "    random_lat = random.random() + random.randint(-90, 90)\n",
    "    lattitude.append(random_lat)\n",
    "    x += 1\n",
    "lattitude    "
   ]
  },
  {
   "cell_type": "code",
   "execution_count": 30,
   "id": "013cb876",
   "metadata": {},
   "outputs": [
    {
     "data": {
      "text/plain": [
       "[-166.82051174612553,\n",
       " -131.14847824565305,\n",
       " -58.45069976088872,\n",
       " -23.237029810077246,\n",
       " -144.3867412399318,\n",
       " 151.2175733697063,\n",
       " 24.947808451493657,\n",
       " 123.5489479764086,\n",
       " -50.266262180978096,\n",
       " -104.10769146802558]"
      ]
     },
     "execution_count": 30,
     "metadata": {},
     "output_type": "execute_result"
    }
   ],
   "source": [
    "x= 1\n",
    "longtude = []\n",
    "while x<11:\n",
    "    random_long = random.random() + random.randint(-180, 180)\n",
    "    longtude.append(random_long)\n",
    "    x += 1\n",
    "longtude "
   ]
  },
  {
   "cell_type": "code",
   "execution_count": null,
   "id": "6c4a6506",
   "metadata": {},
   "outputs": [],
   "source": []
  }
 ],
 "metadata": {
  "kernelspec": {
   "display_name": "PythonData",
   "language": "python",
   "name": "pythondata"
  },
  "language_info": {
   "codemirror_mode": {
    "name": "ipython",
    "version": 3
   },
   "file_extension": ".py",
   "mimetype": "text/x-python",
   "name": "python",
   "nbconvert_exporter": "python",
   "pygments_lexer": "ipython3",
   "version": "3.9.4"
  }
 },
 "nbformat": 4,
 "nbformat_minor": 5
}
