{
 "cells": [
  {
   "cell_type": "code",
   "execution_count": 1,
   "id": "54d3ab74",
   "metadata": {},
   "outputs": [],
   "source": [
    "# testing access tocken\n",
    "# Import the random module.\n",
    "import random \n",
    "import pandas as pd\n",
    "# Import timeit.\n",
    "#import timeit"
   ]
  },
  {
   "cell_type": "code",
   "execution_count": 2,
   "id": "b060f325",
   "metadata": {},
   "outputs": [
    {
     "data": {
      "text/plain": [
       "0.8943410999338199"
      ]
     },
     "execution_count": 2,
     "metadata": {},
     "output_type": "execute_result"
    }
   ],
   "source": [
    "random.random()"
   ]
  },
  {
   "cell_type": "code",
   "execution_count": 3,
   "id": "4ae66a11",
   "metadata": {},
   "outputs": [
    {
     "data": {
      "text/plain": [
       "-1"
      ]
     },
     "execution_count": 3,
     "metadata": {},
     "output_type": "execute_result"
    }
   ],
   "source": [
    "random.randint(-5,5)"
   ]
  },
  {
   "cell_type": "code",
   "execution_count": 4,
   "id": "356f9515",
   "metadata": {},
   "outputs": [
    {
     "data": {
      "text/plain": [
       "0"
      ]
     },
     "execution_count": 4,
     "metadata": {},
     "output_type": "execute_result"
    }
   ],
   "source": [
    "random.randrange(-5,5)"
   ]
  },
  {
   "cell_type": "code",
   "execution_count": 5,
   "id": "56d84ddb",
   "metadata": {},
   "outputs": [
    {
     "data": {
      "text/plain": [
       "-1.6703992927482547"
      ]
     },
     "execution_count": 5,
     "metadata": {},
     "output_type": "execute_result"
    }
   ],
   "source": [
    "random.uniform(-5,5)"
   ]
  },
  {
   "cell_type": "code",
   "execution_count": 6,
   "id": "d3d0d810",
   "metadata": {},
   "outputs": [
    {
     "data": {
      "text/plain": [
       "6.657173280295874"
      ]
     },
     "execution_count": 6,
     "metadata": {},
     "output_type": "execute_result"
    }
   ],
   "source": [
    "random_number = random.randint(-10,10)+ random.random()\n",
    "random_number"
   ]
  },
  {
   "cell_type": "code",
   "execution_count": 7,
   "id": "5dd8364a",
   "metadata": {},
   "outputs": [
    {
     "data": {
      "text/plain": [
       "[72.99881632127055,\n",
       " -24.25630532141748,\n",
       " 39.37271807292227,\n",
       " 60.509370432168005,\n",
       " -55.35785086072088,\n",
       " 61.104177304059796,\n",
       " 75.41999557914957,\n",
       " 30.595373930176976,\n",
       " 52.10592973272729,\n",
       " -40.04178610455602]"
      ]
     },
     "execution_count": 7,
     "metadata": {},
     "output_type": "execute_result"
    }
   ],
   "source": [
    "x= 1\n",
    "lattitude = []\n",
    "while x<11:\n",
    "    random_lat = random.random() + random.randint(-90, 90)\n",
    "    lattitude.append(random_lat)\n",
    "    x += 1\n",
    "lattitude    "
   ]
  },
  {
   "cell_type": "code",
   "execution_count": 8,
   "id": "013cb876",
   "metadata": {},
   "outputs": [
    {
     "data": {
      "text/plain": [
       "[-75.37473338593854,\n",
       " -173.32344085334807,\n",
       " 156.63198863973278,\n",
       " 131.2865837925039,\n",
       " 19.12574834054844,\n",
       " -174.50693989552497,\n",
       " 133.7876080963051,\n",
       " 180.3711572543076,\n",
       " -140.6821407093137,\n",
       " 32.970334530723804]"
      ]
     },
     "execution_count": 8,
     "metadata": {},
     "output_type": "execute_result"
    }
   ],
   "source": [
    "x= 1\n",
    "longtude = []\n",
    "while x<11:\n",
    "    random_long = random.random() + random.randint(-180, 180)\n",
    "    longtude.append(random_long)\n",
    "    x += 1\n",
    "longtude "
   ]
  },
  {
   "cell_type": "code",
   "execution_count": 9,
   "id": "6c4a6506",
   "metadata": {},
   "outputs": [
    {
     "data": {
      "text/plain": [
       "array([ 76.60578787,   3.96754034,  63.8554822 , -23.50243764,\n",
       "        47.74937335,  -8.50481299, -34.39455513, -34.45019435,\n",
       "        -5.36715846, -47.04962581,  60.45456851, -58.32828476,\n",
       "       -57.6734218 ,  85.2442888 ,  80.17376968,  83.48567654,\n",
       "       -49.6547374 , -85.81527668, -44.51177214, -44.19637295,\n",
       "        46.89796301,  81.71221413, -35.56155885, -48.81431554,\n",
       "        32.68798385,  23.423854  ,  22.29561438, -68.30105774,\n",
       "       -24.36308841,   5.56915913, -73.95750469,  27.38908856,\n",
       "        86.3966474 , -84.12618154, -50.42507434,  -3.63672887,\n",
       "       -16.00898446,   4.73358692,  57.61157806, -43.81056584,\n",
       "        -9.41712496, -54.5969534 , -29.68784652, -16.03807344,\n",
       "        -1.14736628, -34.17822753, -78.58265589,  30.49300822,\n",
       "        53.48601128,  48.44739422])"
      ]
     },
     "execution_count": 9,
     "metadata": {},
     "output_type": "execute_result"
    }
   ],
   "source": [
    "import numpy as np \n",
    "np.random.uniform(-90.000, 90.000, size=50)"
   ]
  },
  {
   "cell_type": "code",
   "execution_count": 10,
   "id": "c0a0d8f7",
   "metadata": {},
   "outputs": [
    {
     "name": "stdout",
     "output_type": "stream",
     "text": [
      "12.5 µs ± 128 ns per loop (mean ± std. dev. of 7 runs, 100000 loops each)\n"
     ]
    }
   ],
   "source": [
    "%timeit np.random.uniform(-90.000, 90.000, size=1500)"
   ]
  },
  {
   "cell_type": "code",
   "execution_count": 21,
   "id": "52af3f01",
   "metadata": {},
   "outputs": [
    {
     "data": {
      "text/plain": [
       "array([ 42.46584393, -38.57872581,  15.38812602, ...,  43.10203746,\n",
       "        61.55457726,  -4.3994417 ])"
      ]
     },
     "execution_count": 21,
     "metadata": {},
     "output_type": "execute_result"
    }
   ],
   "source": [
    "np.random.uniform(-90.000, 90.000, size=1500)"
   ]
  },
  {
   "cell_type": "code",
   "execution_count": 23,
   "id": "4c001bc2",
   "metadata": {},
   "outputs": [
    {
     "name": "stdout",
     "output_type": "stream",
     "text": [
      "1.23 ms ± 9.5 µs per loop (mean ± std. dev. of 7 runs, 1000 loops each)\n"
     ]
    }
   ],
   "source": [
    "def latitudes(size):\n",
    "    latitudes = []\n",
    "    x = 0\n",
    "    while x < (size):\n",
    "        random_lat = random.randint(-90, 90) + random.random()\n",
    "        latitudes.append(random_lat)\n",
    "        x += 1\n",
    "    return latitudes\n",
    "# Call the function with 1500.\n",
    "%timeit latitudes(1500)\n",
    "# latitudes(500)"
   ]
  },
  {
   "cell_type": "code",
   "execution_count": 59,
   "id": "029ac3b6",
   "metadata": {},
   "outputs": [
    {
     "name": "stdout",
     "output_type": "stream",
     "text": [
      "1.17 ms ± 8.03 µs per loop (mean ± std. dev. of 7 runs, 1000 loops each)\n"
     ]
    }
   ],
   "source": [
    "# Refactor the code for for loop to check time\n",
    "def longitude(size):\n",
    "    longitude = []\n",
    "\n",
    "    for x in range(size):\n",
    "        random_long = random.randint(-90, 90) + random.random()\n",
    "        longitude.append(random_long)\n",
    "    \n",
    "%timeit longitude(1500)  \n"
   ]
  },
  {
   "cell_type": "code",
   "execution_count": null,
   "id": "21fd69a2",
   "metadata": {},
   "outputs": [],
   "source": []
  }
 ],
 "metadata": {
  "kernelspec": {
   "display_name": "PythonData",
   "language": "python",
   "name": "pythondata"
  },
  "language_info": {
   "codemirror_mode": {
    "name": "ipython",
    "version": 3
   },
   "file_extension": ".py",
   "mimetype": "text/x-python",
   "name": "python",
   "nbconvert_exporter": "python",
   "pygments_lexer": "ipython3",
   "version": "3.9.4"
  }
 },
 "nbformat": 4,
 "nbformat_minor": 5
}
