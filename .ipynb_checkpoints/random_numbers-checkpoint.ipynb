{
 "cells": [
  {
   "cell_type": "code",
   "execution_count": 61,
   "id": "54d3ab74",
   "metadata": {},
   "outputs": [],
   "source": [
    "# testing access tocken\n",
    "# Import the random module.\n",
    "import random \n",
    "import pandas as pd\n",
    "# Import timeit.\n",
    "#import timeit"
   ]
  },
  {
   "cell_type": "code",
   "execution_count": 62,
   "id": "b060f325",
   "metadata": {},
   "outputs": [
    {
     "data": {
      "text/plain": [
       "0.698903759325478"
      ]
     },
     "execution_count": 62,
     "metadata": {},
     "output_type": "execute_result"
    }
   ],
   "source": [
    "random.random()"
   ]
  },
  {
   "cell_type": "code",
   "execution_count": 63,
   "id": "4ae66a11",
   "metadata": {},
   "outputs": [
    {
     "data": {
      "text/plain": [
       "-4"
      ]
     },
     "execution_count": 63,
     "metadata": {},
     "output_type": "execute_result"
    }
   ],
   "source": [
    "random.randint(-5,5)"
   ]
  },
  {
   "cell_type": "code",
   "execution_count": 64,
   "id": "356f9515",
   "metadata": {},
   "outputs": [
    {
     "data": {
      "text/plain": [
       "-2"
      ]
     },
     "execution_count": 64,
     "metadata": {},
     "output_type": "execute_result"
    }
   ],
   "source": [
    "random.randrange(-5,5)"
   ]
  },
  {
   "cell_type": "code",
   "execution_count": 65,
   "id": "56d84ddb",
   "metadata": {},
   "outputs": [
    {
     "data": {
      "text/plain": [
       "-0.9011071814525327"
      ]
     },
     "execution_count": 65,
     "metadata": {},
     "output_type": "execute_result"
    }
   ],
   "source": [
    "random.uniform(-5,5)"
   ]
  },
  {
   "cell_type": "code",
   "execution_count": 66,
   "id": "d3d0d810",
   "metadata": {},
   "outputs": [
    {
     "data": {
      "text/plain": [
       "-3.3375099181054537"
      ]
     },
     "execution_count": 66,
     "metadata": {},
     "output_type": "execute_result"
    }
   ],
   "source": [
    "random_number = random.randint(-10,10)+ random.random()\n",
    "random_number"
   ]
  },
  {
   "cell_type": "code",
   "execution_count": 67,
   "id": "5dd8364a",
   "metadata": {},
   "outputs": [
    {
     "data": {
      "text/plain": [
       "[79.99659686171748,\n",
       " 0.7458222206874952,\n",
       " -42.956805068727,\n",
       " -46.52154999788801,\n",
       " 63.93868734215363,\n",
       " -35.30656130687504,\n",
       " -31.135338114161915,\n",
       " 56.837841163707104,\n",
       " -8.87288211864704,\n",
       " -73.67016671802983]"
      ]
     },
     "execution_count": 67,
     "metadata": {},
     "output_type": "execute_result"
    }
   ],
   "source": [
    "x= 1\n",
    "lattitude = []\n",
    "while x<11:\n",
    "    random_lat = random.random() + random.randint(-90, 90)\n",
    "    lattitude.append(random_lat)\n",
    "    x += 1\n",
    "lattitude    "
   ]
  },
  {
   "cell_type": "code",
   "execution_count": 68,
   "id": "013cb876",
   "metadata": {},
   "outputs": [
    {
     "data": {
      "text/plain": [
       "[-93.62290651164129,\n",
       " -41.08458866374305,\n",
       " 163.7896799794636,\n",
       " -85.59501392817833,\n",
       " -94.50365621341193,\n",
       " 16.102054110100546,\n",
       " 131.0318614131647,\n",
       " 155.45663004570847,\n",
       " -76.58103961428935,\n",
       " 149.31109102192485]"
      ]
     },
     "execution_count": 68,
     "metadata": {},
     "output_type": "execute_result"
    }
   ],
   "source": [
    "x= 1\n",
    "longtude = []\n",
    "while x<11:\n",
    "    random_long = random.random() + random.randint(-180, 180)\n",
    "    longtude.append(random_long)\n",
    "    x += 1\n",
    "longtude "
   ]
  },
  {
   "cell_type": "code",
   "execution_count": 69,
   "id": "6c4a6506",
   "metadata": {},
   "outputs": [
    {
     "data": {
      "text/plain": [
       "array([ 48.49144582,  78.78443113,  53.69028657, -50.48741265,\n",
       "        85.7946608 , -53.65178929, -63.19921411, -11.87202702,\n",
       "        52.68557003, -63.21235188,  12.76836538,  70.49208799,\n",
       "       -42.07668333, -76.40869482,  44.26199688,  71.98985151,\n",
       "       -80.6337124 ,  58.07996283,  -8.93314157, -42.19875143,\n",
       "        24.19363704,  39.04708717,   8.05099921, -19.24806776,\n",
       "       -14.0980967 ,  83.23243066,  -2.42459458,  47.51525919,\n",
       "        11.46910205, -13.9623053 ,  -9.89824628,  61.45665442,\n",
       "       -76.30962191, -28.90975863,  66.57901682,  82.60748847,\n",
       "       -53.45788418, -33.06929313,  77.10818334, -76.51350579,\n",
       "       -24.78002553, -47.52677484,  57.57169586,  53.18043475,\n",
       "       -70.26968182,  22.25042494, -18.50340743,  50.09101488,\n",
       "       -88.39007663,  78.40670628])"
      ]
     },
     "execution_count": 69,
     "metadata": {},
     "output_type": "execute_result"
    }
   ],
   "source": [
    "import numpy as np \n",
    "np.random.uniform(-90.000, 90.000, size=50)"
   ]
  },
  {
   "cell_type": "code",
   "execution_count": 70,
   "id": "c0a0d8f7",
   "metadata": {},
   "outputs": [
    {
     "name": "stdout",
     "output_type": "stream",
     "text": [
      "12.5 µs ± 11.2 ns per loop (mean ± std. dev. of 7 runs, 100000 loops each)\n"
     ]
    }
   ],
   "source": [
    "%timeit np.random.uniform(-90.000, 90.000, size=1500)"
   ]
  },
  {
   "cell_type": "code",
   "execution_count": 71,
   "id": "52af3f01",
   "metadata": {},
   "outputs": [
    {
     "data": {
      "text/plain": [
       "array([-10.16324521, -38.44696344,  30.61585852, ...,  55.89413347,\n",
       "        83.00243334,  13.84350141])"
      ]
     },
     "execution_count": 71,
     "metadata": {},
     "output_type": "execute_result"
    }
   ],
   "source": [
    "np.random.uniform(-90.000, 90.000, size=1500)"
   ]
  },
  {
   "cell_type": "code",
   "execution_count": 72,
   "id": "4c001bc2",
   "metadata": {},
   "outputs": [
    {
     "name": "stdout",
     "output_type": "stream",
     "text": [
      "1.22 ms ± 3.96 µs per loop (mean ± std. dev. of 7 runs, 1000 loops each)\n"
     ]
    }
   ],
   "source": [
    "def latitudes(size):\n",
    "    latitudes = []\n",
    "    x = 0\n",
    "    while x < (size):\n",
    "        random_lat = random.randint(-90, 90) + random.random()\n",
    "        latitudes.append(random_lat)\n",
    "        x += 1\n",
    "    return latitudes\n",
    "# Call the function with 1500.\n",
    "%timeit latitudes(1500)\n",
    "# latitudes(500)"
   ]
  },
  {
   "cell_type": "code",
   "execution_count": 77,
   "id": "029ac3b6",
   "metadata": {},
   "outputs": [
    {
     "name": "stdout",
     "output_type": "stream",
     "text": [
      "1.17 ms ± 5.06 µs per loop (mean ± std. dev. of 7 runs, 1000 loops each)\n"
     ]
    }
   ],
   "source": [
    "# Refactor the code for for loop to check time\n",
    "def longitude(size):\n",
    "    longitude = []\n",
    "\n",
    "    for x in range(size):\n",
    "        random_long = random.randint(-90, 90) + random.random()\n",
    "        longitude.append(random_long)\n",
    " #   print(longitude)\n",
    "%timeit longitude(1500)  \n"
   ]
  },
  {
   "cell_type": "code",
   "execution_count": null,
   "id": "21fd69a2",
   "metadata": {},
   "outputs": [],
   "source": []
  }
 ],
 "metadata": {
  "kernelspec": {
   "display_name": "PythonData",
   "language": "python",
   "name": "pythondata"
  },
  "language_info": {
   "codemirror_mode": {
    "name": "ipython",
    "version": 3
   },
   "file_extension": ".py",
   "mimetype": "text/x-python",
   "name": "python",
   "nbconvert_exporter": "python",
   "pygments_lexer": "ipython3",
   "version": "3.9.4"
  }
 },
 "nbformat": 4,
 "nbformat_minor": 5
}
